{
 "cells": [
  {
   "cell_type": "markdown",
   "metadata": {},
   "source": [
    "## SVM 分类器\n",
    "这一部分，我们探究支持向量机，这是个强分类器，性能要比普通线性分类器强大一些，一般而言，基于的也是线性假设。但是由于可以引入一些核技巧(kernel trick)，可以将特征映射到更加高维度，甚至非线性的空间上，从而使数据空间变得更加可分。再加上SVM本身只是会选取少量的支持向量作为确定分类器超平面的证据，因此，即便数据变得高维度，非线性映射，也不会占用太多的内存空间，只是计算这些支持向量的CPU代价比较高。另外，这个分类器适合于直接做分类，不适合做分类概率的估计。 【Source Code】 \n",
    " \n",
    "### 这里我们使用 AT&T 400张人脸，这个经典数据集来介绍:"
   ]
  },
  {
   "cell_type": "code",
   "execution_count": 1,
   "metadata": {},
   "outputs": [
    {
     "name": "stdout",
     "output_type": "stream",
     "text": [
      "downloading Olivetti faces from https://ndownloader.figshare.com/files/5976027 to C:\\Users\\97855\\scikit_learn_data\n"
     ]
    }
   ],
   "source": [
    "from sklearn.datasets import fetch_olivetti_faces\n",
    "# 通过函数在线下载\n",
    "faces = fetch_olivetti_faces()"
   ]
  },
  {
   "cell_type": "code",
   "execution_count": 2,
   "metadata": {},
   "outputs": [
    {
     "data": {
      "text/plain": [
       "dict_keys(['data', 'images', 'target', 'DESCR'])"
      ]
     },
     "execution_count": 2,
     "metadata": {},
     "output_type": "execute_result"
    }
   ],
   "source": [
    "# 数据是以DICT形式存储，与多数实验性数据的格式一致\n",
    "faces.keys()"
   ]
  },
  {
   "cell_type": "code",
   "execution_count": 3,
   "metadata": {},
   "outputs": [
    {
     "name": "stdout",
     "output_type": "stream",
     "text": [
      "(400, 4096)\n",
      "(400,)\n"
     ]
    }
   ],
   "source": [
    "# 使用shape属性检验数据规模\n",
    "print(faces.data.shape)\n",
    "print(faces.target.shape)"
   ]
  },
  {
   "cell_type": "code",
   "execution_count": 4,
   "metadata": {
    "collapsed": true
   },
   "outputs": [],
   "source": [
    "from sklearn.cross_validation import train_test_split #分割数据\n",
    "from sklearn.svm import SVC # SVM分类器\n",
    "\n",
    "# 同样是分割数据，25%用于测试\n",
    "X_train ,X_test ,y_train,y_test = train_test_split(faces.data,faces.target,test_size = 0.25,random_state = 0)"
   ]
  },
  {
   "cell_type": "code",
   "execution_count": 8,
   "metadata": {
    "collapsed": true
   },
   "outputs": [],
   "source": [
    "from sklearn.cross_validation import cross_val_score,KFold\n",
    "from scipy.stats import sem\n",
    "\n",
    "# 构造一个便于交叉验证模型性能的函数（模块）\n",
    "def evaluate_cross_validation(clf,X,y,K):\n",
    "    # KFold 函数需要如下参数：数据量，叉验次数，是否洗牌\n",
    "    cv = KFold(len(y),K,shuffle = True,random_state = 0)\n",
    "    # 采用上述的分割方式进行交叉验证，测试模型性能，\n",
    "    # 对于分类问题，这些得分默认是accuracy，也可以修改为其他\n",
    "    scores = cross_val_score(clf,X,y,cv = cv)\n",
    "    print(scores)\n",
    "    print('Mean score: %.3f (+/-%.3f)' % (scores.mean(),sem(scores)))"
   ]
  },
  {
   "cell_type": "code",
   "execution_count": 9,
   "metadata": {},
   "outputs": [
    {
     "name": "stdout",
     "output_type": "stream",
     "text": [
      "[ 0.93333333  0.86666667  0.91666667  0.93333333  0.91666667]\n",
      "Mean score: 0.913 (+/-0.012)\n"
     ]
    }
   ],
   "source": [
    "# 使用线性核的SVC（后面会说到不同的核，结果可能大不相同）\n",
    "svc_linear = SVC(kernel = 'linear')\n",
    "# 五折交叉验证 k=5\n",
    "evaluate_cross_validation(svc_linear,X_train,y_train,5)"
   ]
  },
  {
   "cell_type": "code",
   "execution_count": null,
   "metadata": {
    "collapsed": true
   },
   "outputs": [],
   "source": []
  }
 ],
 "metadata": {
  "kernelspec": {
   "display_name": "Python 3",
   "language": "python",
   "name": "python3"
  },
  "language_info": {
   "codemirror_mode": {
    "name": "ipython",
    "version": 3
   },
   "file_extension": ".py",
   "mimetype": "text/x-python",
   "name": "python",
   "nbconvert_exporter": "python",
   "pygments_lexer": "ipython3",
   "version": "3.6.2"
  }
 },
 "nbformat": 4,
 "nbformat_minor": 2
}

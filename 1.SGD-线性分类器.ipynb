{
 "cells": [
  {
   "cell_type": "markdown",
   "metadata": {},
   "source": [
    "总结一下：线性分类器有几种， Logistic_regression在scikit-learn里也有实现。比起SGD这个分类器而言，前者使用更加精确，但是更加耗时的解析解。SGD分类器可以大体代表这些线性分类器的性能，但是由于是近似估计的参数，因此模型性能结果不是很稳定，需要通过调节超参数获得模型的性能上限。"
   ]
  },
  {
   "cell_type": "code",
   "execution_count": 1,
   "metadata": {},
   "outputs": [
    {
     "name": "stderr",
     "output_type": "stream",
     "text": [
      "C:\\Users\\97855\\Anaconda3\\envs\\tensorflow\\lib\\site-packages\\sklearn\\cross_validation.py:41: DeprecationWarning: This module was deprecated in version 0.18 in favor of the model_selection module into which all the refactored classes and functions are moved. Also note that the interface of the new CV iterators are different from that of this module. This module will be removed in 0.20.\n",
      "  \"This module will be removed in 0.20.\", DeprecationWarning)\n"
     ]
    }
   ],
   "source": [
    "from sklearn.datasets import load_iris\n",
    "from sklearn.cross_validation import train_test_split\n",
    "from sklearn import preprocessing\n",
    "\n",
    "# 读取数据\n",
    "iris = load_iris()\n",
    "\n",
    "# 选取特征与标签\n",
    "X_iris,y_iris = iris.data,iris.target\n",
    "\n",
    "# 选择前两列数据作为特征\n",
    "X,y = X_iris[:, :2],y_iris\n",
    "\n",
    "# 选取一部分，25%的训练数据作为测试集\n",
    "X_train,X_test,y_train,y_test = train_test_split(X,y,test_size = 0.25,random_state = 33)\n",
    "\n",
    "# # 对元特征数据进行标准化预处理，很重要\n",
    "# scaler = preprocessing.StandardScaler()\n",
    "# X_train = "
   ]
  },
  {
   "cell_type": "code",
   "execution_count": 2,
   "metadata": {},
   "outputs": [
    {
     "data": {
      "text/plain": [
       "array([[ 5.1,  3.5,  1.4,  0.2],\n",
       "       [ 4.9,  3. ,  1.4,  0.2],\n",
       "       [ 4.7,  3.2,  1.3,  0.2],\n",
       "       [ 4.6,  3.1,  1.5,  0.2],\n",
       "       [ 5. ,  3.6,  1.4,  0.2],\n",
       "       [ 5.4,  3.9,  1.7,  0.4],\n",
       "       [ 4.6,  3.4,  1.4,  0.3],\n",
       "       [ 5. ,  3.4,  1.5,  0.2],\n",
       "       [ 4.4,  2.9,  1.4,  0.2],\n",
       "       [ 4.9,  3.1,  1.5,  0.1],\n",
       "       [ 5.4,  3.7,  1.5,  0.2],\n",
       "       [ 4.8,  3.4,  1.6,  0.2],\n",
       "       [ 4.8,  3. ,  1.4,  0.1],\n",
       "       [ 4.3,  3. ,  1.1,  0.1],\n",
       "       [ 5.8,  4. ,  1.2,  0.2],\n",
       "       [ 5.7,  4.4,  1.5,  0.4],\n",
       "       [ 5.4,  3.9,  1.3,  0.4],\n",
       "       [ 5.1,  3.5,  1.4,  0.3],\n",
       "       [ 5.7,  3.8,  1.7,  0.3],\n",
       "       [ 5.1,  3.8,  1.5,  0.3],\n",
       "       [ 5.4,  3.4,  1.7,  0.2],\n",
       "       [ 5.1,  3.7,  1.5,  0.4],\n",
       "       [ 4.6,  3.6,  1. ,  0.2],\n",
       "       [ 5.1,  3.3,  1.7,  0.5],\n",
       "       [ 4.8,  3.4,  1.9,  0.2],\n",
       "       [ 5. ,  3. ,  1.6,  0.2],\n",
       "       [ 5. ,  3.4,  1.6,  0.4],\n",
       "       [ 5.2,  3.5,  1.5,  0.2],\n",
       "       [ 5.2,  3.4,  1.4,  0.2],\n",
       "       [ 4.7,  3.2,  1.6,  0.2],\n",
       "       [ 4.8,  3.1,  1.6,  0.2],\n",
       "       [ 5.4,  3.4,  1.5,  0.4],\n",
       "       [ 5.2,  4.1,  1.5,  0.1],\n",
       "       [ 5.5,  4.2,  1.4,  0.2],\n",
       "       [ 4.9,  3.1,  1.5,  0.1],\n",
       "       [ 5. ,  3.2,  1.2,  0.2],\n",
       "       [ 5.5,  3.5,  1.3,  0.2],\n",
       "       [ 4.9,  3.1,  1.5,  0.1],\n",
       "       [ 4.4,  3. ,  1.3,  0.2],\n",
       "       [ 5.1,  3.4,  1.5,  0.2],\n",
       "       [ 5. ,  3.5,  1.3,  0.3],\n",
       "       [ 4.5,  2.3,  1.3,  0.3],\n",
       "       [ 4.4,  3.2,  1.3,  0.2],\n",
       "       [ 5. ,  3.5,  1.6,  0.6],\n",
       "       [ 5.1,  3.8,  1.9,  0.4],\n",
       "       [ 4.8,  3. ,  1.4,  0.3],\n",
       "       [ 5.1,  3.8,  1.6,  0.2],\n",
       "       [ 4.6,  3.2,  1.4,  0.2],\n",
       "       [ 5.3,  3.7,  1.5,  0.2],\n",
       "       [ 5. ,  3.3,  1.4,  0.2],\n",
       "       [ 7. ,  3.2,  4.7,  1.4],\n",
       "       [ 6.4,  3.2,  4.5,  1.5],\n",
       "       [ 6.9,  3.1,  4.9,  1.5],\n",
       "       [ 5.5,  2.3,  4. ,  1.3],\n",
       "       [ 6.5,  2.8,  4.6,  1.5],\n",
       "       [ 5.7,  2.8,  4.5,  1.3],\n",
       "       [ 6.3,  3.3,  4.7,  1.6],\n",
       "       [ 4.9,  2.4,  3.3,  1. ],\n",
       "       [ 6.6,  2.9,  4.6,  1.3],\n",
       "       [ 5.2,  2.7,  3.9,  1.4],\n",
       "       [ 5. ,  2. ,  3.5,  1. ],\n",
       "       [ 5.9,  3. ,  4.2,  1.5],\n",
       "       [ 6. ,  2.2,  4. ,  1. ],\n",
       "       [ 6.1,  2.9,  4.7,  1.4],\n",
       "       [ 5.6,  2.9,  3.6,  1.3],\n",
       "       [ 6.7,  3.1,  4.4,  1.4],\n",
       "       [ 5.6,  3. ,  4.5,  1.5],\n",
       "       [ 5.8,  2.7,  4.1,  1. ],\n",
       "       [ 6.2,  2.2,  4.5,  1.5],\n",
       "       [ 5.6,  2.5,  3.9,  1.1],\n",
       "       [ 5.9,  3.2,  4.8,  1.8],\n",
       "       [ 6.1,  2.8,  4. ,  1.3],\n",
       "       [ 6.3,  2.5,  4.9,  1.5],\n",
       "       [ 6.1,  2.8,  4.7,  1.2],\n",
       "       [ 6.4,  2.9,  4.3,  1.3],\n",
       "       [ 6.6,  3. ,  4.4,  1.4],\n",
       "       [ 6.8,  2.8,  4.8,  1.4],\n",
       "       [ 6.7,  3. ,  5. ,  1.7],\n",
       "       [ 6. ,  2.9,  4.5,  1.5],\n",
       "       [ 5.7,  2.6,  3.5,  1. ],\n",
       "       [ 5.5,  2.4,  3.8,  1.1],\n",
       "       [ 5.5,  2.4,  3.7,  1. ],\n",
       "       [ 5.8,  2.7,  3.9,  1.2],\n",
       "       [ 6. ,  2.7,  5.1,  1.6],\n",
       "       [ 5.4,  3. ,  4.5,  1.5],\n",
       "       [ 6. ,  3.4,  4.5,  1.6],\n",
       "       [ 6.7,  3.1,  4.7,  1.5],\n",
       "       [ 6.3,  2.3,  4.4,  1.3],\n",
       "       [ 5.6,  3. ,  4.1,  1.3],\n",
       "       [ 5.5,  2.5,  4. ,  1.3],\n",
       "       [ 5.5,  2.6,  4.4,  1.2],\n",
       "       [ 6.1,  3. ,  4.6,  1.4],\n",
       "       [ 5.8,  2.6,  4. ,  1.2],\n",
       "       [ 5. ,  2.3,  3.3,  1. ],\n",
       "       [ 5.6,  2.7,  4.2,  1.3],\n",
       "       [ 5.7,  3. ,  4.2,  1.2],\n",
       "       [ 5.7,  2.9,  4.2,  1.3],\n",
       "       [ 6.2,  2.9,  4.3,  1.3],\n",
       "       [ 5.1,  2.5,  3. ,  1.1],\n",
       "       [ 5.7,  2.8,  4.1,  1.3],\n",
       "       [ 6.3,  3.3,  6. ,  2.5],\n",
       "       [ 5.8,  2.7,  5.1,  1.9],\n",
       "       [ 7.1,  3. ,  5.9,  2.1],\n",
       "       [ 6.3,  2.9,  5.6,  1.8],\n",
       "       [ 6.5,  3. ,  5.8,  2.2],\n",
       "       [ 7.6,  3. ,  6.6,  2.1],\n",
       "       [ 4.9,  2.5,  4.5,  1.7],\n",
       "       [ 7.3,  2.9,  6.3,  1.8],\n",
       "       [ 6.7,  2.5,  5.8,  1.8],\n",
       "       [ 7.2,  3.6,  6.1,  2.5],\n",
       "       [ 6.5,  3.2,  5.1,  2. ],\n",
       "       [ 6.4,  2.7,  5.3,  1.9],\n",
       "       [ 6.8,  3. ,  5.5,  2.1],\n",
       "       [ 5.7,  2.5,  5. ,  2. ],\n",
       "       [ 5.8,  2.8,  5.1,  2.4],\n",
       "       [ 6.4,  3.2,  5.3,  2.3],\n",
       "       [ 6.5,  3. ,  5.5,  1.8],\n",
       "       [ 7.7,  3.8,  6.7,  2.2],\n",
       "       [ 7.7,  2.6,  6.9,  2.3],\n",
       "       [ 6. ,  2.2,  5. ,  1.5],\n",
       "       [ 6.9,  3.2,  5.7,  2.3],\n",
       "       [ 5.6,  2.8,  4.9,  2. ],\n",
       "       [ 7.7,  2.8,  6.7,  2. ],\n",
       "       [ 6.3,  2.7,  4.9,  1.8],\n",
       "       [ 6.7,  3.3,  5.7,  2.1],\n",
       "       [ 7.2,  3.2,  6. ,  1.8],\n",
       "       [ 6.2,  2.8,  4.8,  1.8],\n",
       "       [ 6.1,  3. ,  4.9,  1.8],\n",
       "       [ 6.4,  2.8,  5.6,  2.1],\n",
       "       [ 7.2,  3. ,  5.8,  1.6],\n",
       "       [ 7.4,  2.8,  6.1,  1.9],\n",
       "       [ 7.9,  3.8,  6.4,  2. ],\n",
       "       [ 6.4,  2.8,  5.6,  2.2],\n",
       "       [ 6.3,  2.8,  5.1,  1.5],\n",
       "       [ 6.1,  2.6,  5.6,  1.4],\n",
       "       [ 7.7,  3. ,  6.1,  2.3],\n",
       "       [ 6.3,  3.4,  5.6,  2.4],\n",
       "       [ 6.4,  3.1,  5.5,  1.8],\n",
       "       [ 6. ,  3. ,  4.8,  1.8],\n",
       "       [ 6.9,  3.1,  5.4,  2.1],\n",
       "       [ 6.7,  3.1,  5.6,  2.4],\n",
       "       [ 6.9,  3.1,  5.1,  2.3],\n",
       "       [ 5.8,  2.7,  5.1,  1.9],\n",
       "       [ 6.8,  3.2,  5.9,  2.3],\n",
       "       [ 6.7,  3.3,  5.7,  2.5],\n",
       "       [ 6.7,  3. ,  5.2,  2.3],\n",
       "       [ 6.3,  2.5,  5. ,  1.9],\n",
       "       [ 6.5,  3. ,  5.2,  2. ],\n",
       "       [ 6.2,  3.4,  5.4,  2.3],\n",
       "       [ 5.9,  3. ,  5.1,  1.8]])"
      ]
     },
     "execution_count": 2,
     "metadata": {},
     "output_type": "execute_result"
    }
   ],
   "source": [
    "X_iris"
   ]
  },
  {
   "cell_type": "code",
   "execution_count": 3,
   "metadata": {
    "scrolled": true
   },
   "outputs": [
    {
     "data": {
      "text/plain": [
       "array([0, 0, 0, 0, 0, 0, 0, 0, 0, 0, 0, 0, 0, 0, 0, 0, 0, 0, 0, 0, 0, 0, 0,\n",
       "       0, 0, 0, 0, 0, 0, 0, 0, 0, 0, 0, 0, 0, 0, 0, 0, 0, 0, 0, 0, 0, 0, 0,\n",
       "       0, 0, 0, 0, 1, 1, 1, 1, 1, 1, 1, 1, 1, 1, 1, 1, 1, 1, 1, 1, 1, 1, 1,\n",
       "       1, 1, 1, 1, 1, 1, 1, 1, 1, 1, 1, 1, 1, 1, 1, 1, 1, 1, 1, 1, 1, 1, 1,\n",
       "       1, 1, 1, 1, 1, 1, 1, 1, 2, 2, 2, 2, 2, 2, 2, 2, 2, 2, 2, 2, 2, 2, 2,\n",
       "       2, 2, 2, 2, 2, 2, 2, 2, 2, 2, 2, 2, 2, 2, 2, 2, 2, 2, 2, 2, 2, 2, 2,\n",
       "       2, 2, 2, 2, 2, 2, 2, 2, 2, 2, 2, 2])"
      ]
     },
     "execution_count": 3,
     "metadata": {},
     "output_type": "execute_result"
    }
   ],
   "source": [
    "y_iris"
   ]
  },
  {
   "cell_type": "code",
   "execution_count": 4,
   "metadata": {
    "collapsed": true
   },
   "outputs": [],
   "source": [
    "# 对原特征数据进行标准化预处理，很重要\n",
    "scaler = preprocessing.StandardScaler()\n",
    "X_train = scaler.fit_transform(X_train)\n",
    "X_test = scaler.transform(X_test)"
   ]
  },
  {
   "cell_type": "code",
   "execution_count": 5,
   "metadata": {},
   "outputs": [
    {
     "data": {
      "text/plain": [
       "array([[-0.91090798, -1.59761476],\n",
       "       [-1.0271058 ,  0.09442168],\n",
       "       [ 0.59966379, -1.59761476],\n",
       "       [ 0.01867465, -0.9631011 ],\n",
       "       [ 0.48346596, -0.32858743],\n",
       "       [-1.25950146,  0.30592623],\n",
       "       [-1.37569929,  0.72893534],\n",
       "       [-0.79471015, -1.17460565],\n",
       "       [-1.14330363,  0.72893534],\n",
       "       [ 2.45882905,  1.57495356],\n",
       "       [-0.79471015,  0.72893534],\n",
       "       [-0.79471015,  1.36344901],\n",
       "       [-0.21372101, -0.32858743],\n",
       "       [ 0.83205945, -0.11708288],\n",
       "       [-0.44611666,  1.78645812],\n",
       "       [ 1.41304859,  0.30592623],\n",
       "       [ 0.01867465, -0.54009199],\n",
       "       [ 2.22643339, -0.9631011 ],\n",
       "       [-0.32991883, -1.17460565],\n",
       "       [ 0.13487248,  0.30592623],\n",
       "       [-1.0271058 ,  0.09442168],\n",
       "       [-1.49189712, -1.59761476],\n",
       "       [ 0.59966379, -0.54009199],\n",
       "       [-1.60809495, -0.32858743],\n",
       "       [-0.91090798,  1.15194445],\n",
       "       [ 1.64544425, -0.11708288],\n",
       "       [ 0.25107031,  0.72893534],\n",
       "       [ 0.48346596, -1.80911932],\n",
       "       [ 1.8778399 , -0.54009199],\n",
       "       [ 1.18065293, -0.11708288],\n",
       "       [ 0.71586162, -0.54009199],\n",
       "       [-0.09752318, -1.17460565],\n",
       "       [-0.91090798,  0.9404399 ],\n",
       "       [-0.79471015,  1.57495356],\n",
       "       [ 1.18065293, -0.54009199],\n",
       "       [-0.67851232, -0.75159654],\n",
       "       [-0.79471015,  1.57495356],\n",
       "       [-0.21372101, -1.17460565],\n",
       "       [ 0.36726814, -0.11708288],\n",
       "       [ 0.94825728, -0.32858743],\n",
       "       [ 0.71586162, -0.54009199],\n",
       "       [-1.72429277, -0.11708288],\n",
       "       [ 1.64544425,  1.15194445],\n",
       "       [-0.79471015,  0.9404399 ],\n",
       "       [ 0.59966379, -1.17460565],\n",
       "       [-1.60809495,  0.30592623],\n",
       "       [ 2.11023556, -0.11708288],\n",
       "       [ 0.71586162,  0.30592623],\n",
       "       [-0.79471015,  1.57495356],\n",
       "       [ 0.83205945,  0.30592623],\n",
       "       [ 0.59966379, -0.75159654],\n",
       "       [-0.91090798,  0.9404399 ],\n",
       "       [-0.67851232,  0.72893534],\n",
       "       [ 0.71586162, -0.75159654],\n",
       "       [ 0.01867465,  1.99796267],\n",
       "       [-0.09752318,  2.84398089],\n",
       "       [-1.37569929,  0.30592623],\n",
       "       [ 1.29685076,  0.09442168],\n",
       "       [ 0.59966379, -0.32858743],\n",
       "       [-0.32991883,  0.9404399 ],\n",
       "       [-0.09752318, -0.9631011 ],\n",
       "       [-0.91090798,  0.51743079],\n",
       "       [ 0.25107031, -1.80911932],\n",
       "       [-1.0271058 , -0.11708288],\n",
       "       [-0.91090798, -2.23212843],\n",
       "       [ 0.94825728, -0.11708288],\n",
       "       [-0.09752318, -0.54009199],\n",
       "       [-0.32991883, -0.9631011 ],\n",
       "       [-0.32991883, -1.59761476],\n",
       "       [-1.14330363,  0.09442168],\n",
       "       [ 0.25107031, -0.32858743],\n",
       "       [-0.91090798, -0.11708288],\n",
       "       [ 1.29685076,  0.09442168],\n",
       "       [ 1.06445511, -1.17460565],\n",
       "       [-0.56231449,  1.36344901],\n",
       "       [-0.67851232,  2.20946723],\n",
       "       [-0.91090798,  0.72893534],\n",
       "       [-1.37569929,  1.15194445],\n",
       "       [ 2.22643339,  1.57495356],\n",
       "       [ 1.76164208, -0.32858743],\n",
       "       [-1.37569929,  0.09442168],\n",
       "       [-0.32991883, -1.38611021],\n",
       "       [ 0.01867465, -0.75159654],\n",
       "       [ 1.06445511,  0.51743079],\n",
       "       [ 0.01867465, -0.75159654],\n",
       "       [-0.44611666,  1.36344901],\n",
       "       [-0.91090798,  0.72893534],\n",
       "       [ 0.25107031, -0.75159654],\n",
       "       [-0.09752318, -0.54009199],\n",
       "       [ 0.36726814, -0.54009199],\n",
       "       [-0.79471015,  0.51743079],\n",
       "       [-0.21372101, -0.11708288],\n",
       "       [-0.44611666, -0.11708288],\n",
       "       [-0.44611666,  1.78645812],\n",
       "       [ 1.06445511,  0.51743079],\n",
       "       [-1.0271058 , -1.17460565],\n",
       "       [ 0.48346596,  0.72893534],\n",
       "       [-0.32991883, -1.38611021],\n",
       "       [ 2.22643339, -0.54009199],\n",
       "       [-0.44611666,  0.72893534],\n",
       "       [ 1.06445511, -0.11708288],\n",
       "       [-0.32991883,  2.42097178],\n",
       "       [-0.91090798,  0.30592623],\n",
       "       [-1.14330363, -0.11708288],\n",
       "       [ 0.01867465, -0.75159654],\n",
       "       [ 0.13487248, -0.11708288],\n",
       "       [ 1.52924642, -0.11708288],\n",
       "       [-1.0271058 , -1.38611021],\n",
       "       [ 0.59966379, -1.17460565],\n",
       "       [-0.21372101, -0.11708288],\n",
       "       [ 2.22643339, -0.11708288],\n",
       "       [-0.44611666,  0.72893534]])"
      ]
     },
     "execution_count": 5,
     "metadata": {},
     "output_type": "execute_result"
    }
   ],
   "source": [
    "X_train"
   ]
  },
  {
   "cell_type": "code",
   "execution_count": 6,
   "metadata": {},
   "outputs": [
    {
     "name": "stdout",
     "output_type": "stream",
     "text": [
      "0.8125\n",
      "0.684210526316\n"
     ]
    },
    {
     "name": "stderr",
     "output_type": "stream",
     "text": [
      "C:\\Users\\97855\\Anaconda3\\envs\\tensorflow\\lib\\site-packages\\sklearn\\linear_model\\stochastic_gradient.py:84: FutureWarning: max_iter and tol parameters have been added in <class 'sklearn.linear_model.stochastic_gradient.SGDClassifier'> in 0.19. If both are left unset, they default to max_iter=5 and tol=None. If tol is not None, max_iter defaults to max_iter=1000. From 0.21, default max_iter will be 1000, and default tol will be 1e-3.\n",
      "  \"and default tol will be 1e-3.\" % type(self), FutureWarning)\n"
     ]
    }
   ],
   "source": [
    "from sklearn.linear_model import SGDClassifier\n",
    "\n",
    "# 选择使用SGD分类器，适合大规模数，随机梯度下降法估计参数\n",
    "clf = SGDClassifier()\n",
    "clf.fit(X_train,y_train)\n",
    "\n",
    "#导入评价包\n",
    "from sklearn import metrics\n",
    "\n",
    "y_train_predict = clf.predict(X_train)\n",
    "\n",
    "#内测，使用训练样本进行准确性能评估\n",
    "print(metrics.accuracy_score(y_train,y_train_predict))\n",
    "\n",
    "# 标准内测，使用测试用本进行准确性能评估\n",
    "y_preict = clf.predict(X_test)\n",
    "print(metrics.accuracy_score(y_test,y_preict))"
   ]
  },
  {
   "cell_type": "code",
   "execution_count": 7,
   "metadata": {},
   "outputs": [
    {
     "name": "stdout",
     "output_type": "stream",
     "text": [
      "             precision    recall  f1-score   support\n",
      "\n",
      "     setosa       1.00      1.00      1.00         8\n",
      " versicolor       0.43      0.27      0.33        11\n",
      "  virginica       0.65      0.79      0.71        19\n",
      "\n",
      "avg / total       0.66      0.68      0.66        38\n",
      "\n"
     ]
    }
   ],
   "source": [
    "# 查看更加详细的性能报告，比如precision, recall, accuracy，可以使用如下的函数。\n",
    "print(metrics.classification_report(y_test,y_preict,target_names = iris.target_names))"
   ]
  },
  {
   "cell_type": "code",
   "execution_count": 8,
   "metadata": {
    "collapsed": true
   },
   "outputs": [],
   "source": [
    "# 如果想详细探查SGDClassifier的分类性能，我们需要充分利用数据，\n",
    "# 因此需要把数据切分为N个部分，每个部分都用于测试一次模型性能。\n",
    "from sklearn.cross_validation import cross_val_score,KFold\n",
    "from sklearn.pipeline import Pipeline\n",
    "from sklearn.preprocessing import StandardScaler"
   ]
  },
  {
   "cell_type": "code",
   "execution_count": 9,
   "metadata": {},
   "outputs": [
    {
     "name": "stderr",
     "output_type": "stream",
     "text": [
      "C:\\Users\\97855\\Anaconda3\\envs\\tensorflow\\lib\\site-packages\\sklearn\\linear_model\\stochastic_gradient.py:84: FutureWarning: max_iter and tol parameters have been added in <class 'sklearn.linear_model.stochastic_gradient.SGDClassifier'> in 0.19. If both are left unset, they default to max_iter=5 and tol=None. If tol is not None, max_iter defaults to max_iter=1000. From 0.21, default max_iter will be 1000, and default tol will be 1e-3.\n",
      "  \"and default tol will be 1e-3.\" % type(self), FutureWarning)\n"
     ]
    }
   ],
   "source": [
    "# 这里使用Pipeline,便于精简模型搭建，一般而言，模型在fit之前，\n",
    "# 对数据需要feature_extration,preprocessing,等必要步骤\n",
    "# 这里我们使用默认的参数配置\n",
    "clf = Pipeline([('scaler',StandardScaler()),('sgd_classifier',SGDClassifier())])\n",
    "\n",
    "# 5折交叉验证整个数据集合\n",
    "cv = KFold(X.shape[0], 5, shuffle=True,random_state=33 )"
   ]
  },
  {
   "cell_type": "code",
   "execution_count": 11,
   "metadata": {},
   "outputs": [
    {
     "name": "stdout",
     "output_type": "stream",
     "text": [
      "[ 0.56666667  0.76666667  0.7         0.76666667  0.9       ]\n"
     ]
    }
   ],
   "source": [
    "score = cross_val_score(clf,X,y,cv=cv)\n",
    "print(score)# 切分成5份"
   ]
  },
  {
   "cell_type": "code",
   "execution_count": 12,
   "metadata": {},
   "outputs": [
    {
     "name": "stdout",
     "output_type": "stream",
     "text": [
      "0.74 0.108320512062\n"
     ]
    }
   ],
   "source": [
    "# 计算一下模型的综合性能，平均精度和标准差\n",
    "# SD:标准差\n",
    "print(score.mean(),score.std())"
   ]
  },
  {
   "cell_type": "code",
   "execution_count": 14,
   "metadata": {},
   "outputs": [
    {
     "name": "stdout",
     "output_type": "stream",
     "text": [
      "0.74 0.0541602560309\n"
     ]
    }
   ],
   "source": [
    "from scipy.stats import sem\n",
    "import numpy as np\n",
    "# sem:标准误，用于以样本估计整体时所用，与样本数量有关\n",
    "print(np.mean(score),sem(score))"
   ]
  }
 ],
 "metadata": {
  "kernelspec": {
   "display_name": "Python 3",
   "language": "python",
   "name": "python3"
  },
  "language_info": {
   "codemirror_mode": {
    "name": "ipython",
    "version": 3
   },
   "file_extension": ".py",
   "mimetype": "text/x-python",
   "name": "python",
   "nbconvert_exporter": "python",
   "pygments_lexer": "ipython3",
   "version": "3.6.2"
  }
 },
 "nbformat": 4,
 "nbformat_minor": 2
}
